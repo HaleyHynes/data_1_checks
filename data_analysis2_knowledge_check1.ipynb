{
 "cells": [
  {
   "cell_type": "code",
   "execution_count": 3,
   "metadata": {},
   "outputs": [],
   "source": [
    "import pandas as pd\n",
    "import requests"
   ]
  },
  {
   "cell_type": "code",
   "execution_count": 4,
   "metadata": {},
   "outputs": [],
   "source": [
    "url = 'https://archive-api.open-meteo.com/v1/era5?latitude=38.26&longitude=-85.70&start_date=2022-01-01&end_date=2022-07-13&daily=temperature_2m_max,sunrise,sunset,precipitation_sum&timezone=America%2FNew_York&temperature_unit=fahrenheit&windspeed_unit=mph&precipitation_unit=inch'"
   ]
  },
  {
   "cell_type": "code",
   "execution_count": 5,
   "metadata": {},
   "outputs": [],
   "source": [
    "r = requests.get(url)"
   ]
  },
  {
   "cell_type": "code",
   "execution_count": 6,
   "metadata": {},
   "outputs": [
    {
     "data": {
      "text/plain": [
       "<Response [200]>"
      ]
     },
     "execution_count": 6,
     "metadata": {},
     "output_type": "execute_result"
    }
   ],
   "source": [
    "r"
   ]
  },
  {
   "cell_type": "code",
   "execution_count": 7,
   "metadata": {},
   "outputs": [],
   "source": [
    "json = r.json()"
   ]
  },
  {
   "cell_type": "code",
   "execution_count": 8,
   "metadata": {},
   "outputs": [
    {
     "data": {
      "text/plain": [
       "dict_keys(['latitude', 'longitude', 'generationtime_ms', 'utc_offset_seconds', 'timezone', 'timezone_abbreviation', 'elevation', 'daily_units', 'daily'])"
      ]
     },
     "execution_count": 8,
     "metadata": {},
     "output_type": "execute_result"
    }
   ],
   "source": [
    "json.keys()"
   ]
  },
  {
   "cell_type": "code",
   "execution_count": 9,
   "metadata": {},
   "outputs": [
    {
     "data": {
      "text/plain": [
       "dict"
      ]
     },
     "execution_count": 9,
     "metadata": {},
     "output_type": "execute_result"
    }
   ],
   "source": [
    "type(json['daily'])"
   ]
  },
  {
   "cell_type": "code",
   "execution_count": 10,
   "metadata": {},
   "outputs": [],
   "source": [
    "df = pd.DataFrame(json['daily'])"
   ]
  },
  {
   "cell_type": "code",
   "execution_count": 14,
   "metadata": {},
   "outputs": [
    {
     "data": {
      "text/html": [
       "<div>\n",
       "<style scoped>\n",
       "    .dataframe tbody tr th:only-of-type {\n",
       "        vertical-align: middle;\n",
       "    }\n",
       "\n",
       "    .dataframe tbody tr th {\n",
       "        vertical-align: top;\n",
       "    }\n",
       "\n",
       "    .dataframe thead th {\n",
       "        text-align: right;\n",
       "    }\n",
       "</style>\n",
       "<table border=\"1\" class=\"dataframe\">\n",
       "  <thead>\n",
       "    <tr style=\"text-align: right;\">\n",
       "      <th></th>\n",
       "      <th>time</th>\n",
       "      <th>temperature_2m_max</th>\n",
       "      <th>sunrise</th>\n",
       "      <th>sunset</th>\n",
       "      <th>precipitation_sum</th>\n",
       "    </tr>\n",
       "  </thead>\n",
       "  <tbody>\n",
       "    <tr>\n",
       "      <th>0</th>\n",
       "      <td>2022-01-01</td>\n",
       "      <td>65.2</td>\n",
       "      <td>2022-01-01T08:58</td>\n",
       "      <td>2022-01-01T18:34</td>\n",
       "      <td>2.17</td>\n",
       "    </tr>\n",
       "    <tr>\n",
       "      <th>1</th>\n",
       "      <td>2022-01-02</td>\n",
       "      <td>53.5</td>\n",
       "      <td>2022-01-02T08:58</td>\n",
       "      <td>2022-01-02T18:35</td>\n",
       "      <td>0.06</td>\n",
       "    </tr>\n",
       "    <tr>\n",
       "      <th>2</th>\n",
       "      <td>2022-01-03</td>\n",
       "      <td>33.8</td>\n",
       "      <td>2022-01-03T08:58</td>\n",
       "      <td>2022-01-03T18:36</td>\n",
       "      <td>0.00</td>\n",
       "    </tr>\n",
       "    <tr>\n",
       "      <th>3</th>\n",
       "      <td>2022-01-04</td>\n",
       "      <td>43.8</td>\n",
       "      <td>2022-01-04T08:58</td>\n",
       "      <td>2022-01-04T18:37</td>\n",
       "      <td>0.00</td>\n",
       "    </tr>\n",
       "    <tr>\n",
       "      <th>4</th>\n",
       "      <td>2022-01-05</td>\n",
       "      <td>46.4</td>\n",
       "      <td>2022-01-05T08:58</td>\n",
       "      <td>2022-01-05T18:38</td>\n",
       "      <td>0.00</td>\n",
       "    </tr>\n",
       "    <tr>\n",
       "      <th>...</th>\n",
       "      <td>...</td>\n",
       "      <td>...</td>\n",
       "      <td>...</td>\n",
       "      <td>...</td>\n",
       "      <td>...</td>\n",
       "    </tr>\n",
       "    <tr>\n",
       "      <th>189</th>\n",
       "      <td>2022-07-09</td>\n",
       "      <td>77.6</td>\n",
       "      <td>2022-07-09T06:26</td>\n",
       "      <td>2022-07-09T21:09</td>\n",
       "      <td>0.67</td>\n",
       "    </tr>\n",
       "    <tr>\n",
       "      <th>190</th>\n",
       "      <td>2022-07-10</td>\n",
       "      <td>88.7</td>\n",
       "      <td>2022-07-10T06:26</td>\n",
       "      <td>2022-07-10T21:09</td>\n",
       "      <td>0.00</td>\n",
       "    </tr>\n",
       "    <tr>\n",
       "      <th>191</th>\n",
       "      <td>2022-07-11</td>\n",
       "      <td>90.6</td>\n",
       "      <td>2022-07-11T06:27</td>\n",
       "      <td>2022-07-11T21:09</td>\n",
       "      <td>0.00</td>\n",
       "    </tr>\n",
       "    <tr>\n",
       "      <th>192</th>\n",
       "      <td>2022-07-12</td>\n",
       "      <td>90.0</td>\n",
       "      <td>2022-07-12T06:28</td>\n",
       "      <td>2022-07-12T21:08</td>\n",
       "      <td>0.00</td>\n",
       "    </tr>\n",
       "    <tr>\n",
       "      <th>193</th>\n",
       "      <td>2022-07-13</td>\n",
       "      <td>88.6</td>\n",
       "      <td>2022-07-13T06:28</td>\n",
       "      <td>2022-07-13T21:08</td>\n",
       "      <td>0.00</td>\n",
       "    </tr>\n",
       "  </tbody>\n",
       "</table>\n",
       "<p>194 rows × 5 columns</p>\n",
       "</div>"
      ],
      "text/plain": [
       "           time  temperature_2m_max           sunrise            sunset  \\\n",
       "0    2022-01-01                65.2  2022-01-01T08:58  2022-01-01T18:34   \n",
       "1    2022-01-02                53.5  2022-01-02T08:58  2022-01-02T18:35   \n",
       "2    2022-01-03                33.8  2022-01-03T08:58  2022-01-03T18:36   \n",
       "3    2022-01-04                43.8  2022-01-04T08:58  2022-01-04T18:37   \n",
       "4    2022-01-05                46.4  2022-01-05T08:58  2022-01-05T18:38   \n",
       "..          ...                 ...               ...               ...   \n",
       "189  2022-07-09                77.6  2022-07-09T06:26  2022-07-09T21:09   \n",
       "190  2022-07-10                88.7  2022-07-10T06:26  2022-07-10T21:09   \n",
       "191  2022-07-11                90.6  2022-07-11T06:27  2022-07-11T21:09   \n",
       "192  2022-07-12                90.0  2022-07-12T06:28  2022-07-12T21:08   \n",
       "193  2022-07-13                88.6  2022-07-13T06:28  2022-07-13T21:08   \n",
       "\n",
       "     precipitation_sum  \n",
       "0                 2.17  \n",
       "1                 0.06  \n",
       "2                 0.00  \n",
       "3                 0.00  \n",
       "4                 0.00  \n",
       "..                 ...  \n",
       "189               0.67  \n",
       "190               0.00  \n",
       "191               0.00  \n",
       "192               0.00  \n",
       "193               0.00  \n",
       "\n",
       "[194 rows x 5 columns]"
      ]
     },
     "execution_count": 14,
     "metadata": {},
     "output_type": "execute_result"
    }
   ],
   "source": [
    "df"
   ]
  },
  {
   "cell_type": "code",
   "execution_count": 19,
   "metadata": {},
   "outputs": [],
   "source": [
    "df['time'] = pd.to_datetime(df['time'])"
   ]
  },
  {
   "cell_type": "code",
   "execution_count": 20,
   "metadata": {},
   "outputs": [],
   "source": [
    "df['sunrise'] = pd.to_datetime(df['sunrise'])"
   ]
  },
  {
   "cell_type": "code",
   "execution_count": 21,
   "metadata": {},
   "outputs": [],
   "source": [
    "df['sunset'] = pd.to_datetime(df['sunset'])"
   ]
  },
  {
   "cell_type": "code",
   "execution_count": 22,
   "metadata": {},
   "outputs": [
    {
     "data": {
      "text/html": [
       "<div>\n",
       "<style scoped>\n",
       "    .dataframe tbody tr th:only-of-type {\n",
       "        vertical-align: middle;\n",
       "    }\n",
       "\n",
       "    .dataframe tbody tr th {\n",
       "        vertical-align: top;\n",
       "    }\n",
       "\n",
       "    .dataframe thead th {\n",
       "        text-align: right;\n",
       "    }\n",
       "</style>\n",
       "<table border=\"1\" class=\"dataframe\">\n",
       "  <thead>\n",
       "    <tr style=\"text-align: right;\">\n",
       "      <th></th>\n",
       "      <th>time</th>\n",
       "      <th>temperature_2m_max</th>\n",
       "      <th>sunrise</th>\n",
       "      <th>sunset</th>\n",
       "      <th>precipitation_sum</th>\n",
       "    </tr>\n",
       "  </thead>\n",
       "  <tbody>\n",
       "    <tr>\n",
       "      <th>0</th>\n",
       "      <td>2022-01-01</td>\n",
       "      <td>65.2</td>\n",
       "      <td>2022-01-01 08:58:00</td>\n",
       "      <td>2022-01-01 18:34:00</td>\n",
       "      <td>2.17</td>\n",
       "    </tr>\n",
       "    <tr>\n",
       "      <th>1</th>\n",
       "      <td>2022-01-02</td>\n",
       "      <td>53.5</td>\n",
       "      <td>2022-01-02 08:58:00</td>\n",
       "      <td>2022-01-02 18:35:00</td>\n",
       "      <td>0.06</td>\n",
       "    </tr>\n",
       "    <tr>\n",
       "      <th>2</th>\n",
       "      <td>2022-01-03</td>\n",
       "      <td>33.8</td>\n",
       "      <td>2022-01-03 08:58:00</td>\n",
       "      <td>2022-01-03 18:36:00</td>\n",
       "      <td>0.00</td>\n",
       "    </tr>\n",
       "    <tr>\n",
       "      <th>3</th>\n",
       "      <td>2022-01-04</td>\n",
       "      <td>43.8</td>\n",
       "      <td>2022-01-04 08:58:00</td>\n",
       "      <td>2022-01-04 18:37:00</td>\n",
       "      <td>0.00</td>\n",
       "    </tr>\n",
       "    <tr>\n",
       "      <th>4</th>\n",
       "      <td>2022-01-05</td>\n",
       "      <td>46.4</td>\n",
       "      <td>2022-01-05 08:58:00</td>\n",
       "      <td>2022-01-05 18:38:00</td>\n",
       "      <td>0.00</td>\n",
       "    </tr>\n",
       "  </tbody>\n",
       "</table>\n",
       "</div>"
      ],
      "text/plain": [
       "        time  temperature_2m_max             sunrise              sunset  \\\n",
       "0 2022-01-01                65.2 2022-01-01 08:58:00 2022-01-01 18:34:00   \n",
       "1 2022-01-02                53.5 2022-01-02 08:58:00 2022-01-02 18:35:00   \n",
       "2 2022-01-03                33.8 2022-01-03 08:58:00 2022-01-03 18:36:00   \n",
       "3 2022-01-04                43.8 2022-01-04 08:58:00 2022-01-04 18:37:00   \n",
       "4 2022-01-05                46.4 2022-01-05 08:58:00 2022-01-05 18:38:00   \n",
       "\n",
       "   precipitation_sum  \n",
       "0               2.17  \n",
       "1               0.06  \n",
       "2               0.00  \n",
       "3               0.00  \n",
       "4               0.00  "
      ]
     },
     "execution_count": 22,
     "metadata": {},
     "output_type": "execute_result"
    }
   ],
   "source": [
    "df.head()"
   ]
  },
  {
   "cell_type": "code",
   "execution_count": 24,
   "metadata": {},
   "outputs": [
    {
     "data": {
      "text/plain": [
       "0       Saturday\n",
       "1         Sunday\n",
       "2         Monday\n",
       "3        Tuesday\n",
       "4      Wednesday\n",
       "         ...    \n",
       "189     Saturday\n",
       "190       Sunday\n",
       "191       Monday\n",
       "192      Tuesday\n",
       "193    Wednesday\n",
       "Name: time, Length: 194, dtype: object"
      ]
     },
     "execution_count": 24,
     "metadata": {},
     "output_type": "execute_result"
    }
   ],
   "source": [
    "df['time'].dt.day_name()"
   ]
  },
  {
   "cell_type": "code",
   "execution_count": 43,
   "metadata": {},
   "outputs": [
    {
     "data": {
      "text/plain": [
       "20.3"
      ]
     },
     "execution_count": 43,
     "metadata": {},
     "output_type": "execute_result"
    }
   ],
   "source": [
    "df.loc[:, 'temperature_2m_max'].min()"
   ]
  },
  {
   "cell_type": "code",
   "execution_count": 37,
   "metadata": {},
   "outputs": [
    {
     "data": {
      "text/html": [
       "<div>\n",
       "<style scoped>\n",
       "    .dataframe tbody tr th:only-of-type {\n",
       "        vertical-align: middle;\n",
       "    }\n",
       "\n",
       "    .dataframe tbody tr th {\n",
       "        vertical-align: top;\n",
       "    }\n",
       "\n",
       "    .dataframe thead th {\n",
       "        text-align: right;\n",
       "    }\n",
       "</style>\n",
       "<table border=\"1\" class=\"dataframe\">\n",
       "  <thead>\n",
       "    <tr style=\"text-align: right;\">\n",
       "      <th></th>\n",
       "      <th>temperature_2m_max</th>\n",
       "      <th>sunrise</th>\n",
       "    </tr>\n",
       "  </thead>\n",
       "  <tbody>\n",
       "    <tr>\n",
       "      <th>0</th>\n",
       "      <td>65.2</td>\n",
       "      <td>2022-01-01 08:58:00</td>\n",
       "    </tr>\n",
       "    <tr>\n",
       "      <th>1</th>\n",
       "      <td>53.5</td>\n",
       "      <td>2022-01-02 08:58:00</td>\n",
       "    </tr>\n",
       "    <tr>\n",
       "      <th>2</th>\n",
       "      <td>33.8</td>\n",
       "      <td>2022-01-03 08:58:00</td>\n",
       "    </tr>\n",
       "    <tr>\n",
       "      <th>3</th>\n",
       "      <td>43.8</td>\n",
       "      <td>2022-01-04 08:58:00</td>\n",
       "    </tr>\n",
       "    <tr>\n",
       "      <th>4</th>\n",
       "      <td>46.4</td>\n",
       "      <td>2022-01-05 08:58:00</td>\n",
       "    </tr>\n",
       "    <tr>\n",
       "      <th>...</th>\n",
       "      <td>...</td>\n",
       "      <td>...</td>\n",
       "    </tr>\n",
       "    <tr>\n",
       "      <th>189</th>\n",
       "      <td>77.6</td>\n",
       "      <td>2022-07-09 06:26:00</td>\n",
       "    </tr>\n",
       "    <tr>\n",
       "      <th>190</th>\n",
       "      <td>88.7</td>\n",
       "      <td>2022-07-10 06:26:00</td>\n",
       "    </tr>\n",
       "    <tr>\n",
       "      <th>191</th>\n",
       "      <td>90.6</td>\n",
       "      <td>2022-07-11 06:27:00</td>\n",
       "    </tr>\n",
       "    <tr>\n",
       "      <th>192</th>\n",
       "      <td>90.0</td>\n",
       "      <td>2022-07-12 06:28:00</td>\n",
       "    </tr>\n",
       "    <tr>\n",
       "      <th>193</th>\n",
       "      <td>88.6</td>\n",
       "      <td>2022-07-13 06:28:00</td>\n",
       "    </tr>\n",
       "  </tbody>\n",
       "</table>\n",
       "<p>194 rows × 2 columns</p>\n",
       "</div>"
      ],
      "text/plain": [
       "     temperature_2m_max             sunrise\n",
       "0                  65.2 2022-01-01 08:58:00\n",
       "1                  53.5 2022-01-02 08:58:00\n",
       "2                  33.8 2022-01-03 08:58:00\n",
       "3                  43.8 2022-01-04 08:58:00\n",
       "4                  46.4 2022-01-05 08:58:00\n",
       "..                  ...                 ...\n",
       "189                77.6 2022-07-09 06:26:00\n",
       "190                88.7 2022-07-10 06:26:00\n",
       "191                90.6 2022-07-11 06:27:00\n",
       "192                90.0 2022-07-12 06:28:00\n",
       "193                88.6 2022-07-13 06:28:00\n",
       "\n",
       "[194 rows x 2 columns]"
      ]
     },
     "execution_count": 37,
     "metadata": {},
     "output_type": "execute_result"
    }
   ],
   "source": [
    "df_columns = df[['temperature_2m_max', 'sunrise']]\n",
    "df_columns"
   ]
  },
  {
   "cell_type": "code",
   "execution_count": 41,
   "metadata": {},
   "outputs": [
    {
     "data": {
      "text/html": [
       "<div>\n",
       "<style scoped>\n",
       "    .dataframe tbody tr th:only-of-type {\n",
       "        vertical-align: middle;\n",
       "    }\n",
       "\n",
       "    .dataframe tbody tr th {\n",
       "        vertical-align: top;\n",
       "    }\n",
       "\n",
       "    .dataframe thead th {\n",
       "        text-align: right;\n",
       "    }\n",
       "</style>\n",
       "<table border=\"1\" class=\"dataframe\">\n",
       "  <thead>\n",
       "    <tr style=\"text-align: right;\">\n",
       "      <th></th>\n",
       "      <th>time</th>\n",
       "      <th>temperature_2m_max</th>\n",
       "      <th>sunrise</th>\n",
       "      <th>sunset</th>\n",
       "      <th>precipitation_sum</th>\n",
       "    </tr>\n",
       "  </thead>\n",
       "  <tbody>\n",
       "    <tr>\n",
       "      <th>0</th>\n",
       "      <td>2022-01-01</td>\n",
       "      <td>65.2</td>\n",
       "      <td>2022-01-01 08:58:00</td>\n",
       "      <td>2022-01-01 18:34:00</td>\n",
       "      <td>2.17</td>\n",
       "    </tr>\n",
       "    <tr>\n",
       "      <th>1</th>\n",
       "      <td>2022-01-02</td>\n",
       "      <td>53.5</td>\n",
       "      <td>2022-01-02 08:58:00</td>\n",
       "      <td>2022-01-02 18:35:00</td>\n",
       "      <td>0.06</td>\n",
       "    </tr>\n",
       "    <tr>\n",
       "      <th>2</th>\n",
       "      <td>2022-01-03</td>\n",
       "      <td>33.8</td>\n",
       "      <td>2022-01-03 08:58:00</td>\n",
       "      <td>2022-01-03 18:36:00</td>\n",
       "      <td>0.00</td>\n",
       "    </tr>\n",
       "    <tr>\n",
       "      <th>3</th>\n",
       "      <td>2022-01-04</td>\n",
       "      <td>43.8</td>\n",
       "      <td>2022-01-04 08:58:00</td>\n",
       "      <td>2022-01-04 18:37:00</td>\n",
       "      <td>0.00</td>\n",
       "    </tr>\n",
       "  </tbody>\n",
       "</table>\n",
       "</div>"
      ],
      "text/plain": [
       "        time  temperature_2m_max             sunrise              sunset  \\\n",
       "0 2022-01-01                65.2 2022-01-01 08:58:00 2022-01-01 18:34:00   \n",
       "1 2022-01-02                53.5 2022-01-02 08:58:00 2022-01-02 18:35:00   \n",
       "2 2022-01-03                33.8 2022-01-03 08:58:00 2022-01-03 18:36:00   \n",
       "3 2022-01-04                43.8 2022-01-04 08:58:00 2022-01-04 18:37:00   \n",
       "\n",
       "   precipitation_sum  \n",
       "0               2.17  \n",
       "1               0.06  \n",
       "2               0.00  \n",
       "3               0.00  "
      ]
     },
     "execution_count": 41,
     "metadata": {},
     "output_type": "execute_result"
    }
   ],
   "source": [
    "df.iloc[:4]"
   ]
  }
 ],
 "metadata": {
  "kernelspec": {
   "display_name": "Python 3.10.7 64-bit (microsoft store)",
   "language": "python",
   "name": "python3"
  },
  "language_info": {
   "codemirror_mode": {
    "name": "ipython",
    "version": 3
   },
   "file_extension": ".py",
   "mimetype": "text/x-python",
   "name": "python",
   "nbconvert_exporter": "python",
   "pygments_lexer": "ipython3",
   "version": "3.10.7"
  },
  "orig_nbformat": 4,
  "vscode": {
   "interpreter": {
    "hash": "179c32eef508bc41e99ea19cc5567dc356affb21ff96f3185044700356fa6477"
   }
  }
 },
 "nbformat": 4,
 "nbformat_minor": 2
}
