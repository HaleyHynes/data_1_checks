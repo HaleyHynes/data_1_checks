{
 "cells": [
  {
   "cell_type": "markdown",
   "metadata": {},
   "source": [
    "#### **Requirement 1**\n",
    "Pull in Data From an API"
   ]
  },
  {
   "cell_type": "code",
   "execution_count": 1,
   "metadata": {},
   "outputs": [],
   "source": [
    "import pandas as pd\n",
    "import requests"
   ]
  },
  {
   "cell_type": "markdown",
   "metadata": {},
   "source": [
    "The API I'm getting data from is [Open-Meteo](https://open-meteo.com/en). I collected historical weather data from Louisville, Kentucky from January 1st to July 13th, 2022. The timezone is in Eastern Timezone, the temperature units are in Fahrenheit, and the preciptitation units are in inches."
   ]
  },
  {
   "cell_type": "code",
   "execution_count": 2,
   "metadata": {},
   "outputs": [],
   "source": [
    "#Set a variable to the target url\n",
    "url = 'https://archive-api.open-meteo.com/v1/era5?latitude=38.26&longitude=-85.70&start_date=2022-01-01&end_date=2022-07-13&daily=temperature_2m_max,sunrise,sunset,precipitation_sum&timezone=America%2FNew_York&temperature_unit=fahrenheit&windspeed_unit=mph&precipitation_unit=inch'"
   ]
  },
  {
   "cell_type": "code",
   "execution_count": 3,
   "metadata": {},
   "outputs": [],
   "source": [
    "#Make a get request from the API\n",
    "r = requests.get(url)"
   ]
  },
  {
   "cell_type": "code",
   "execution_count": 4,
   "metadata": {},
   "outputs": [
    {
     "data": {
      "text/plain": [
       "<Response [200]>"
      ]
     },
     "execution_count": 4,
     "metadata": {},
     "output_type": "execute_result"
    }
   ],
   "source": [
    "#Check for success\n",
    "r"
   ]
  },
  {
   "cell_type": "code",
   "execution_count": 5,
   "metadata": {},
   "outputs": [],
   "source": [
    "#Extract json-structured data from the request\n",
    "json = r.json()"
   ]
  },
  {
   "cell_type": "code",
   "execution_count": 6,
   "metadata": {},
   "outputs": [
    {
     "data": {
      "text/plain": [
       "dict_keys(['latitude', 'longitude', 'generationtime_ms', 'utc_offset_seconds', 'timezone', 'timezone_abbreviation', 'elevation', 'daily_units', 'daily'])"
      ]
     },
     "execution_count": 6,
     "metadata": {},
     "output_type": "execute_result"
    }
   ],
   "source": [
    "#Explore the json data to build a dataframe\n",
    "json.keys()"
   ]
  },
  {
   "cell_type": "code",
   "execution_count": 7,
   "metadata": {},
   "outputs": [
    {
     "data": {
      "text/plain": [
       "dict"
      ]
     },
     "execution_count": 7,
     "metadata": {},
     "output_type": "execute_result"
    }
   ],
   "source": [
    "#Finding the right type of data for a dataframe\n",
    "type(json['daily'])"
   ]
  },
  {
   "cell_type": "code",
   "execution_count": 8,
   "metadata": {},
   "outputs": [],
   "source": [
    "#Creating a dataframe\n",
    "df = pd.DataFrame(json['daily'])"
   ]
  },
  {
   "cell_type": "code",
   "execution_count": 9,
   "metadata": {},
   "outputs": [
    {
     "data": {
      "text/html": [
       "<div>\n",
       "<style scoped>\n",
       "    .dataframe tbody tr th:only-of-type {\n",
       "        vertical-align: middle;\n",
       "    }\n",
       "\n",
       "    .dataframe tbody tr th {\n",
       "        vertical-align: top;\n",
       "    }\n",
       "\n",
       "    .dataframe thead th {\n",
       "        text-align: right;\n",
       "    }\n",
       "</style>\n",
       "<table border=\"1\" class=\"dataframe\">\n",
       "  <thead>\n",
       "    <tr style=\"text-align: right;\">\n",
       "      <th></th>\n",
       "      <th>time</th>\n",
       "      <th>temperature_2m_max</th>\n",
       "      <th>sunrise</th>\n",
       "      <th>sunset</th>\n",
       "      <th>precipitation_sum</th>\n",
       "    </tr>\n",
       "  </thead>\n",
       "  <tbody>\n",
       "    <tr>\n",
       "      <th>0</th>\n",
       "      <td>2022-01-01</td>\n",
       "      <td>65.2</td>\n",
       "      <td>2022-01-01T08:58</td>\n",
       "      <td>2022-01-01T18:34</td>\n",
       "      <td>2.17</td>\n",
       "    </tr>\n",
       "    <tr>\n",
       "      <th>1</th>\n",
       "      <td>2022-01-02</td>\n",
       "      <td>53.5</td>\n",
       "      <td>2022-01-02T08:58</td>\n",
       "      <td>2022-01-02T18:35</td>\n",
       "      <td>0.06</td>\n",
       "    </tr>\n",
       "    <tr>\n",
       "      <th>2</th>\n",
       "      <td>2022-01-03</td>\n",
       "      <td>33.8</td>\n",
       "      <td>2022-01-03T08:58</td>\n",
       "      <td>2022-01-03T18:36</td>\n",
       "      <td>0.00</td>\n",
       "    </tr>\n",
       "    <tr>\n",
       "      <th>3</th>\n",
       "      <td>2022-01-04</td>\n",
       "      <td>43.8</td>\n",
       "      <td>2022-01-04T08:58</td>\n",
       "      <td>2022-01-04T18:37</td>\n",
       "      <td>0.00</td>\n",
       "    </tr>\n",
       "    <tr>\n",
       "      <th>4</th>\n",
       "      <td>2022-01-05</td>\n",
       "      <td>46.4</td>\n",
       "      <td>2022-01-05T08:58</td>\n",
       "      <td>2022-01-05T18:38</td>\n",
       "      <td>0.00</td>\n",
       "    </tr>\n",
       "    <tr>\n",
       "      <th>...</th>\n",
       "      <td>...</td>\n",
       "      <td>...</td>\n",
       "      <td>...</td>\n",
       "      <td>...</td>\n",
       "      <td>...</td>\n",
       "    </tr>\n",
       "    <tr>\n",
       "      <th>189</th>\n",
       "      <td>2022-07-09</td>\n",
       "      <td>77.6</td>\n",
       "      <td>2022-07-09T06:26</td>\n",
       "      <td>2022-07-09T21:09</td>\n",
       "      <td>0.67</td>\n",
       "    </tr>\n",
       "    <tr>\n",
       "      <th>190</th>\n",
       "      <td>2022-07-10</td>\n",
       "      <td>88.7</td>\n",
       "      <td>2022-07-10T06:26</td>\n",
       "      <td>2022-07-10T21:09</td>\n",
       "      <td>0.00</td>\n",
       "    </tr>\n",
       "    <tr>\n",
       "      <th>191</th>\n",
       "      <td>2022-07-11</td>\n",
       "      <td>90.6</td>\n",
       "      <td>2022-07-11T06:27</td>\n",
       "      <td>2022-07-11T21:09</td>\n",
       "      <td>0.00</td>\n",
       "    </tr>\n",
       "    <tr>\n",
       "      <th>192</th>\n",
       "      <td>2022-07-12</td>\n",
       "      <td>90.0</td>\n",
       "      <td>2022-07-12T06:28</td>\n",
       "      <td>2022-07-12T21:08</td>\n",
       "      <td>0.00</td>\n",
       "    </tr>\n",
       "    <tr>\n",
       "      <th>193</th>\n",
       "      <td>2022-07-13</td>\n",
       "      <td>88.6</td>\n",
       "      <td>2022-07-13T06:28</td>\n",
       "      <td>2022-07-13T21:08</td>\n",
       "      <td>0.00</td>\n",
       "    </tr>\n",
       "  </tbody>\n",
       "</table>\n",
       "<p>194 rows × 5 columns</p>\n",
       "</div>"
      ],
      "text/plain": [
       "           time  temperature_2m_max           sunrise            sunset  \\\n",
       "0    2022-01-01                65.2  2022-01-01T08:58  2022-01-01T18:34   \n",
       "1    2022-01-02                53.5  2022-01-02T08:58  2022-01-02T18:35   \n",
       "2    2022-01-03                33.8  2022-01-03T08:58  2022-01-03T18:36   \n",
       "3    2022-01-04                43.8  2022-01-04T08:58  2022-01-04T18:37   \n",
       "4    2022-01-05                46.4  2022-01-05T08:58  2022-01-05T18:38   \n",
       "..          ...                 ...               ...               ...   \n",
       "189  2022-07-09                77.6  2022-07-09T06:26  2022-07-09T21:09   \n",
       "190  2022-07-10                88.7  2022-07-10T06:26  2022-07-10T21:09   \n",
       "191  2022-07-11                90.6  2022-07-11T06:27  2022-07-11T21:09   \n",
       "192  2022-07-12                90.0  2022-07-12T06:28  2022-07-12T21:08   \n",
       "193  2022-07-13                88.6  2022-07-13T06:28  2022-07-13T21:08   \n",
       "\n",
       "     precipitation_sum  \n",
       "0                 2.17  \n",
       "1                 0.06  \n",
       "2                 0.00  \n",
       "3                 0.00  \n",
       "4                 0.00  \n",
       "..                 ...  \n",
       "189               0.67  \n",
       "190               0.00  \n",
       "191               0.00  \n",
       "192               0.00  \n",
       "193               0.00  \n",
       "\n",
       "[194 rows x 5 columns]"
      ]
     },
     "execution_count": 9,
     "metadata": {},
     "output_type": "execute_result"
    }
   ],
   "source": [
    "df"
   ]
  },
  {
   "cell_type": "markdown",
   "metadata": {},
   "source": [
    "#### **Data Cleaning**\n",
    "Formatting Datetime Columns Before Analyzing the Data"
   ]
  },
  {
   "cell_type": "code",
   "execution_count": 10,
   "metadata": {},
   "outputs": [],
   "source": [
    "df['time'] = pd.to_datetime(df['time'])"
   ]
  },
  {
   "cell_type": "code",
   "execution_count": 11,
   "metadata": {},
   "outputs": [],
   "source": [
    "df['sunrise'] = pd.to_datetime(df['sunrise'])"
   ]
  },
  {
   "cell_type": "code",
   "execution_count": 12,
   "metadata": {},
   "outputs": [],
   "source": [
    "df['sunset'] = pd.to_datetime(df['sunset'])"
   ]
  },
  {
   "cell_type": "code",
   "execution_count": 13,
   "metadata": {},
   "outputs": [
    {
     "data": {
      "text/html": [
       "<div>\n",
       "<style scoped>\n",
       "    .dataframe tbody tr th:only-of-type {\n",
       "        vertical-align: middle;\n",
       "    }\n",
       "\n",
       "    .dataframe tbody tr th {\n",
       "        vertical-align: top;\n",
       "    }\n",
       "\n",
       "    .dataframe thead th {\n",
       "        text-align: right;\n",
       "    }\n",
       "</style>\n",
       "<table border=\"1\" class=\"dataframe\">\n",
       "  <thead>\n",
       "    <tr style=\"text-align: right;\">\n",
       "      <th></th>\n",
       "      <th>time</th>\n",
       "      <th>temperature_2m_max</th>\n",
       "      <th>sunrise</th>\n",
       "      <th>sunset</th>\n",
       "      <th>precipitation_sum</th>\n",
       "    </tr>\n",
       "  </thead>\n",
       "  <tbody>\n",
       "    <tr>\n",
       "      <th>0</th>\n",
       "      <td>2022-01-01</td>\n",
       "      <td>65.2</td>\n",
       "      <td>2022-01-01 08:58:00</td>\n",
       "      <td>2022-01-01 18:34:00</td>\n",
       "      <td>2.17</td>\n",
       "    </tr>\n",
       "    <tr>\n",
       "      <th>1</th>\n",
       "      <td>2022-01-02</td>\n",
       "      <td>53.5</td>\n",
       "      <td>2022-01-02 08:58:00</td>\n",
       "      <td>2022-01-02 18:35:00</td>\n",
       "      <td>0.06</td>\n",
       "    </tr>\n",
       "    <tr>\n",
       "      <th>2</th>\n",
       "      <td>2022-01-03</td>\n",
       "      <td>33.8</td>\n",
       "      <td>2022-01-03 08:58:00</td>\n",
       "      <td>2022-01-03 18:36:00</td>\n",
       "      <td>0.00</td>\n",
       "    </tr>\n",
       "    <tr>\n",
       "      <th>3</th>\n",
       "      <td>2022-01-04</td>\n",
       "      <td>43.8</td>\n",
       "      <td>2022-01-04 08:58:00</td>\n",
       "      <td>2022-01-04 18:37:00</td>\n",
       "      <td>0.00</td>\n",
       "    </tr>\n",
       "    <tr>\n",
       "      <th>4</th>\n",
       "      <td>2022-01-05</td>\n",
       "      <td>46.4</td>\n",
       "      <td>2022-01-05 08:58:00</td>\n",
       "      <td>2022-01-05 18:38:00</td>\n",
       "      <td>0.00</td>\n",
       "    </tr>\n",
       "  </tbody>\n",
       "</table>\n",
       "</div>"
      ],
      "text/plain": [
       "        time  temperature_2m_max             sunrise              sunset  \\\n",
       "0 2022-01-01                65.2 2022-01-01 08:58:00 2022-01-01 18:34:00   \n",
       "1 2022-01-02                53.5 2022-01-02 08:58:00 2022-01-02 18:35:00   \n",
       "2 2022-01-03                33.8 2022-01-03 08:58:00 2022-01-03 18:36:00   \n",
       "3 2022-01-04                43.8 2022-01-04 08:58:00 2022-01-04 18:37:00   \n",
       "4 2022-01-05                46.4 2022-01-05 08:58:00 2022-01-05 18:38:00   \n",
       "\n",
       "   precipitation_sum  \n",
       "0               2.17  \n",
       "1               0.06  \n",
       "2               0.00  \n",
       "3               0.00  \n",
       "4               0.00  "
      ]
     },
     "execution_count": 13,
     "metadata": {},
     "output_type": "execute_result"
    }
   ],
   "source": [
    "df.head()"
   ]
  },
  {
   "cell_type": "markdown",
   "metadata": {},
   "source": [
    "#### **Requirement 2**\n",
    "Find and Print Two Descriptive Statistics About the Data"
   ]
  },
  {
   "cell_type": "code",
   "execution_count": 14,
   "metadata": {},
   "outputs": [
    {
     "data": {
      "text/plain": [
       "0       Saturday\n",
       "1         Sunday\n",
       "2         Monday\n",
       "3        Tuesday\n",
       "4      Wednesday\n",
       "         ...    \n",
       "189     Saturday\n",
       "190       Sunday\n",
       "191       Monday\n",
       "192      Tuesday\n",
       "193    Wednesday\n",
       "Name: time, Length: 194, dtype: object"
      ]
     },
     "execution_count": 14,
     "metadata": {},
     "output_type": "execute_result"
    }
   ],
   "source": [
    "#The name of each day of the week for each date\n",
    "df['time'].dt.day_name()"
   ]
  },
  {
   "cell_type": "code",
   "execution_count": 15,
   "metadata": {},
   "outputs": [
    {
     "data": {
      "text/plain": [
       "20.3"
      ]
     },
     "execution_count": 15,
     "metadata": {},
     "output_type": "execute_result"
    }
   ],
   "source": [
    "#The minimum temperature between January 1st and July 13th\n",
    "df.loc[:, 'temperature_2m_max'].min()"
   ]
  },
  {
   "cell_type": "markdown",
   "metadata": {},
   "source": [
    "#### **Requirement 3**\n",
    "Write a Query in Pandas"
   ]
  },
  {
   "cell_type": "code",
   "execution_count": 16,
   "metadata": {},
   "outputs": [
    {
     "data": {
      "text/html": [
       "<div>\n",
       "<style scoped>\n",
       "    .dataframe tbody tr th:only-of-type {\n",
       "        vertical-align: middle;\n",
       "    }\n",
       "\n",
       "    .dataframe tbody tr th {\n",
       "        vertical-align: top;\n",
       "    }\n",
       "\n",
       "    .dataframe thead th {\n",
       "        text-align: right;\n",
       "    }\n",
       "</style>\n",
       "<table border=\"1\" class=\"dataframe\">\n",
       "  <thead>\n",
       "    <tr style=\"text-align: right;\">\n",
       "      <th></th>\n",
       "      <th>time</th>\n",
       "      <th>temperature_2m_max</th>\n",
       "      <th>sunrise</th>\n",
       "      <th>sunset</th>\n",
       "      <th>precipitation_sum</th>\n",
       "    </tr>\n",
       "  </thead>\n",
       "  <tbody>\n",
       "    <tr>\n",
       "      <th>0</th>\n",
       "      <td>2022-01-01</td>\n",
       "      <td>65.2</td>\n",
       "      <td>2022-01-01 08:58:00</td>\n",
       "      <td>2022-01-01 18:34:00</td>\n",
       "      <td>2.17</td>\n",
       "    </tr>\n",
       "    <tr>\n",
       "      <th>8</th>\n",
       "      <td>2022-01-09</td>\n",
       "      <td>44.4</td>\n",
       "      <td>2022-01-09 08:58:00</td>\n",
       "      <td>2022-01-09 18:42:00</td>\n",
       "      <td>0.80</td>\n",
       "    </tr>\n",
       "    <tr>\n",
       "      <th>32</th>\n",
       "      <td>2022-02-02</td>\n",
       "      <td>51.7</td>\n",
       "      <td>2022-02-02 08:45:00</td>\n",
       "      <td>2022-02-02 19:07:00</td>\n",
       "      <td>0.90</td>\n",
       "    </tr>\n",
       "    <tr>\n",
       "      <th>33</th>\n",
       "      <td>2022-02-03</td>\n",
       "      <td>38.1</td>\n",
       "      <td>2022-02-03 08:44:00</td>\n",
       "      <td>2022-02-03 19:09:00</td>\n",
       "      <td>1.61</td>\n",
       "    </tr>\n",
       "    <tr>\n",
       "      <th>47</th>\n",
       "      <td>2022-02-17</td>\n",
       "      <td>63.6</td>\n",
       "      <td>2022-02-17 08:28:00</td>\n",
       "      <td>2022-02-17 19:24:00</td>\n",
       "      <td>1.87</td>\n",
       "    </tr>\n",
       "    <tr>\n",
       "      <th>52</th>\n",
       "      <td>2022-02-22</td>\n",
       "      <td>62.7</td>\n",
       "      <td>2022-02-22 08:22:00</td>\n",
       "      <td>2022-02-22 19:30:00</td>\n",
       "      <td>0.86</td>\n",
       "    </tr>\n",
       "    <tr>\n",
       "      <th>54</th>\n",
       "      <td>2022-02-24</td>\n",
       "      <td>38.6</td>\n",
       "      <td>2022-02-24 08:19:00</td>\n",
       "      <td>2022-02-24 19:32:00</td>\n",
       "      <td>0.53</td>\n",
       "    </tr>\n",
       "    <tr>\n",
       "      <th>64</th>\n",
       "      <td>2022-03-06</td>\n",
       "      <td>70.9</td>\n",
       "      <td>2022-03-06 08:05:00</td>\n",
       "      <td>2022-03-06 19:42:00</td>\n",
       "      <td>0.77</td>\n",
       "    </tr>\n",
       "    <tr>\n",
       "      <th>65</th>\n",
       "      <td>2022-03-07</td>\n",
       "      <td>65.8</td>\n",
       "      <td>2022-03-07 08:04:00</td>\n",
       "      <td>2022-03-07 19:43:00</td>\n",
       "      <td>0.71</td>\n",
       "    </tr>\n",
       "    <tr>\n",
       "      <th>80</th>\n",
       "      <td>2022-03-22</td>\n",
       "      <td>69.7</td>\n",
       "      <td>2022-03-22 07:41:00</td>\n",
       "      <td>2022-03-22 19:57:00</td>\n",
       "      <td>0.55</td>\n",
       "    </tr>\n",
       "    <tr>\n",
       "      <th>94</th>\n",
       "      <td>2022-04-05</td>\n",
       "      <td>56.2</td>\n",
       "      <td>2022-04-05 07:19:00</td>\n",
       "      <td>2022-04-05 20:10:00</td>\n",
       "      <td>0.52</td>\n",
       "    </tr>\n",
       "    <tr>\n",
       "      <th>95</th>\n",
       "      <td>2022-04-06</td>\n",
       "      <td>55.4</td>\n",
       "      <td>2022-04-06 07:18:00</td>\n",
       "      <td>2022-04-06 20:11:00</td>\n",
       "      <td>0.60</td>\n",
       "    </tr>\n",
       "    <tr>\n",
       "      <th>100</th>\n",
       "      <td>2022-04-11</td>\n",
       "      <td>64.4</td>\n",
       "      <td>2022-04-11 07:11:00</td>\n",
       "      <td>2022-04-11 20:16:00</td>\n",
       "      <td>0.57</td>\n",
       "    </tr>\n",
       "    <tr>\n",
       "      <th>102</th>\n",
       "      <td>2022-04-13</td>\n",
       "      <td>72.6</td>\n",
       "      <td>2022-04-13 07:08:00</td>\n",
       "      <td>2022-04-13 20:18:00</td>\n",
       "      <td>0.66</td>\n",
       "    </tr>\n",
       "    <tr>\n",
       "      <th>120</th>\n",
       "      <td>2022-05-01</td>\n",
       "      <td>75.5</td>\n",
       "      <td>2022-05-01 06:44:00</td>\n",
       "      <td>2022-05-01 20:35:00</td>\n",
       "      <td>0.52</td>\n",
       "    </tr>\n",
       "    <tr>\n",
       "      <th>122</th>\n",
       "      <td>2022-05-03</td>\n",
       "      <td>79.2</td>\n",
       "      <td>2022-05-03 06:42:00</td>\n",
       "      <td>2022-05-03 20:37:00</td>\n",
       "      <td>0.66</td>\n",
       "    </tr>\n",
       "    <tr>\n",
       "      <th>125</th>\n",
       "      <td>2022-05-06</td>\n",
       "      <td>70.7</td>\n",
       "      <td>2022-05-06 06:38:00</td>\n",
       "      <td>2022-05-06 20:40:00</td>\n",
       "      <td>0.61</td>\n",
       "    </tr>\n",
       "    <tr>\n",
       "      <th>145</th>\n",
       "      <td>2022-05-26</td>\n",
       "      <td>72.2</td>\n",
       "      <td>2022-05-26 06:22:00</td>\n",
       "      <td>2022-05-26 20:57:00</td>\n",
       "      <td>1.07</td>\n",
       "    </tr>\n",
       "    <tr>\n",
       "      <th>152</th>\n",
       "      <td>2022-06-02</td>\n",
       "      <td>78.2</td>\n",
       "      <td>2022-06-02 06:19:00</td>\n",
       "      <td>2022-06-02 21:02:00</td>\n",
       "      <td>0.52</td>\n",
       "    </tr>\n",
       "    <tr>\n",
       "      <th>156</th>\n",
       "      <td>2022-06-06</td>\n",
       "      <td>81.0</td>\n",
       "      <td>2022-06-06 06:18:00</td>\n",
       "      <td>2022-06-06 21:04:00</td>\n",
       "      <td>0.78</td>\n",
       "    </tr>\n",
       "    <tr>\n",
       "      <th>189</th>\n",
       "      <td>2022-07-09</td>\n",
       "      <td>77.6</td>\n",
       "      <td>2022-07-09 06:26:00</td>\n",
       "      <td>2022-07-09 21:09:00</td>\n",
       "      <td>0.67</td>\n",
       "    </tr>\n",
       "  </tbody>\n",
       "</table>\n",
       "</div>"
      ],
      "text/plain": [
       "          time  temperature_2m_max             sunrise              sunset  \\\n",
       "0   2022-01-01                65.2 2022-01-01 08:58:00 2022-01-01 18:34:00   \n",
       "8   2022-01-09                44.4 2022-01-09 08:58:00 2022-01-09 18:42:00   \n",
       "32  2022-02-02                51.7 2022-02-02 08:45:00 2022-02-02 19:07:00   \n",
       "33  2022-02-03                38.1 2022-02-03 08:44:00 2022-02-03 19:09:00   \n",
       "47  2022-02-17                63.6 2022-02-17 08:28:00 2022-02-17 19:24:00   \n",
       "52  2022-02-22                62.7 2022-02-22 08:22:00 2022-02-22 19:30:00   \n",
       "54  2022-02-24                38.6 2022-02-24 08:19:00 2022-02-24 19:32:00   \n",
       "64  2022-03-06                70.9 2022-03-06 08:05:00 2022-03-06 19:42:00   \n",
       "65  2022-03-07                65.8 2022-03-07 08:04:00 2022-03-07 19:43:00   \n",
       "80  2022-03-22                69.7 2022-03-22 07:41:00 2022-03-22 19:57:00   \n",
       "94  2022-04-05                56.2 2022-04-05 07:19:00 2022-04-05 20:10:00   \n",
       "95  2022-04-06                55.4 2022-04-06 07:18:00 2022-04-06 20:11:00   \n",
       "100 2022-04-11                64.4 2022-04-11 07:11:00 2022-04-11 20:16:00   \n",
       "102 2022-04-13                72.6 2022-04-13 07:08:00 2022-04-13 20:18:00   \n",
       "120 2022-05-01                75.5 2022-05-01 06:44:00 2022-05-01 20:35:00   \n",
       "122 2022-05-03                79.2 2022-05-03 06:42:00 2022-05-03 20:37:00   \n",
       "125 2022-05-06                70.7 2022-05-06 06:38:00 2022-05-06 20:40:00   \n",
       "145 2022-05-26                72.2 2022-05-26 06:22:00 2022-05-26 20:57:00   \n",
       "152 2022-06-02                78.2 2022-06-02 06:19:00 2022-06-02 21:02:00   \n",
       "156 2022-06-06                81.0 2022-06-06 06:18:00 2022-06-06 21:04:00   \n",
       "189 2022-07-09                77.6 2022-07-09 06:26:00 2022-07-09 21:09:00   \n",
       "\n",
       "     precipitation_sum  \n",
       "0                 2.17  \n",
       "8                 0.80  \n",
       "32                0.90  \n",
       "33                1.61  \n",
       "47                1.87  \n",
       "52                0.86  \n",
       "54                0.53  \n",
       "64                0.77  \n",
       "65                0.71  \n",
       "80                0.55  \n",
       "94                0.52  \n",
       "95                0.60  \n",
       "100               0.57  \n",
       "102               0.66  \n",
       "120               0.52  \n",
       "122               0.66  \n",
       "125               0.61  \n",
       "145               1.07  \n",
       "152               0.52  \n",
       "156               0.78  \n",
       "189               0.67  "
      ]
     },
     "execution_count": 16,
     "metadata": {},
     "output_type": "execute_result"
    }
   ],
   "source": [
    "#How many days had a precipitation total of more than half an inch?\n",
    "query_df = df.query('precipitation_sum > 0.5')\n",
    "query_df"
   ]
  },
  {
   "cell_type": "code",
   "execution_count": 17,
   "metadata": {},
   "outputs": [
    {
     "data": {
      "text/plain": [
       "(21, 5)"
      ]
     },
     "execution_count": 17,
     "metadata": {},
     "output_type": "execute_result"
    }
   ],
   "source": [
    "#Answer: 21 days\n",
    "query_df.shape"
   ]
  },
  {
   "cell_type": "markdown",
   "metadata": {},
   "source": [
    "#### **Requirement 4**\n",
    "Select and Print the Second and Third Columns"
   ]
  },
  {
   "cell_type": "code",
   "execution_count": 18,
   "metadata": {},
   "outputs": [
    {
     "data": {
      "text/html": [
       "<div>\n",
       "<style scoped>\n",
       "    .dataframe tbody tr th:only-of-type {\n",
       "        vertical-align: middle;\n",
       "    }\n",
       "\n",
       "    .dataframe tbody tr th {\n",
       "        vertical-align: top;\n",
       "    }\n",
       "\n",
       "    .dataframe thead th {\n",
       "        text-align: right;\n",
       "    }\n",
       "</style>\n",
       "<table border=\"1\" class=\"dataframe\">\n",
       "  <thead>\n",
       "    <tr style=\"text-align: right;\">\n",
       "      <th></th>\n",
       "      <th>temperature_2m_max</th>\n",
       "      <th>sunrise</th>\n",
       "    </tr>\n",
       "  </thead>\n",
       "  <tbody>\n",
       "    <tr>\n",
       "      <th>0</th>\n",
       "      <td>65.2</td>\n",
       "      <td>2022-01-01 08:58:00</td>\n",
       "    </tr>\n",
       "    <tr>\n",
       "      <th>1</th>\n",
       "      <td>53.5</td>\n",
       "      <td>2022-01-02 08:58:00</td>\n",
       "    </tr>\n",
       "    <tr>\n",
       "      <th>2</th>\n",
       "      <td>33.8</td>\n",
       "      <td>2022-01-03 08:58:00</td>\n",
       "    </tr>\n",
       "    <tr>\n",
       "      <th>3</th>\n",
       "      <td>43.8</td>\n",
       "      <td>2022-01-04 08:58:00</td>\n",
       "    </tr>\n",
       "    <tr>\n",
       "      <th>4</th>\n",
       "      <td>46.4</td>\n",
       "      <td>2022-01-05 08:58:00</td>\n",
       "    </tr>\n",
       "    <tr>\n",
       "      <th>...</th>\n",
       "      <td>...</td>\n",
       "      <td>...</td>\n",
       "    </tr>\n",
       "    <tr>\n",
       "      <th>189</th>\n",
       "      <td>77.6</td>\n",
       "      <td>2022-07-09 06:26:00</td>\n",
       "    </tr>\n",
       "    <tr>\n",
       "      <th>190</th>\n",
       "      <td>88.7</td>\n",
       "      <td>2022-07-10 06:26:00</td>\n",
       "    </tr>\n",
       "    <tr>\n",
       "      <th>191</th>\n",
       "      <td>90.6</td>\n",
       "      <td>2022-07-11 06:27:00</td>\n",
       "    </tr>\n",
       "    <tr>\n",
       "      <th>192</th>\n",
       "      <td>90.0</td>\n",
       "      <td>2022-07-12 06:28:00</td>\n",
       "    </tr>\n",
       "    <tr>\n",
       "      <th>193</th>\n",
       "      <td>88.6</td>\n",
       "      <td>2022-07-13 06:28:00</td>\n",
       "    </tr>\n",
       "  </tbody>\n",
       "</table>\n",
       "<p>194 rows × 2 columns</p>\n",
       "</div>"
      ],
      "text/plain": [
       "     temperature_2m_max             sunrise\n",
       "0                  65.2 2022-01-01 08:58:00\n",
       "1                  53.5 2022-01-02 08:58:00\n",
       "2                  33.8 2022-01-03 08:58:00\n",
       "3                  43.8 2022-01-04 08:58:00\n",
       "4                  46.4 2022-01-05 08:58:00\n",
       "..                  ...                 ...\n",
       "189                77.6 2022-07-09 06:26:00\n",
       "190                88.7 2022-07-10 06:26:00\n",
       "191                90.6 2022-07-11 06:27:00\n",
       "192                90.0 2022-07-12 06:28:00\n",
       "193                88.6 2022-07-13 06:28:00\n",
       "\n",
       "[194 rows x 2 columns]"
      ]
     },
     "execution_count": 18,
     "metadata": {},
     "output_type": "execute_result"
    }
   ],
   "source": [
    "df_columns = df[['temperature_2m_max', 'sunrise']]\n",
    "df_columns"
   ]
  },
  {
   "cell_type": "markdown",
   "metadata": {},
   "source": [
    "#### **Requirement 5**\n",
    "Select and Print the First Four Rows"
   ]
  },
  {
   "cell_type": "code",
   "execution_count": 19,
   "metadata": {},
   "outputs": [
    {
     "data": {
      "text/html": [
       "<div>\n",
       "<style scoped>\n",
       "    .dataframe tbody tr th:only-of-type {\n",
       "        vertical-align: middle;\n",
       "    }\n",
       "\n",
       "    .dataframe tbody tr th {\n",
       "        vertical-align: top;\n",
       "    }\n",
       "\n",
       "    .dataframe thead th {\n",
       "        text-align: right;\n",
       "    }\n",
       "</style>\n",
       "<table border=\"1\" class=\"dataframe\">\n",
       "  <thead>\n",
       "    <tr style=\"text-align: right;\">\n",
       "      <th></th>\n",
       "      <th>time</th>\n",
       "      <th>temperature_2m_max</th>\n",
       "      <th>sunrise</th>\n",
       "      <th>sunset</th>\n",
       "      <th>precipitation_sum</th>\n",
       "    </tr>\n",
       "  </thead>\n",
       "  <tbody>\n",
       "    <tr>\n",
       "      <th>0</th>\n",
       "      <td>2022-01-01</td>\n",
       "      <td>65.2</td>\n",
       "      <td>2022-01-01 08:58:00</td>\n",
       "      <td>2022-01-01 18:34:00</td>\n",
       "      <td>2.17</td>\n",
       "    </tr>\n",
       "    <tr>\n",
       "      <th>1</th>\n",
       "      <td>2022-01-02</td>\n",
       "      <td>53.5</td>\n",
       "      <td>2022-01-02 08:58:00</td>\n",
       "      <td>2022-01-02 18:35:00</td>\n",
       "      <td>0.06</td>\n",
       "    </tr>\n",
       "    <tr>\n",
       "      <th>2</th>\n",
       "      <td>2022-01-03</td>\n",
       "      <td>33.8</td>\n",
       "      <td>2022-01-03 08:58:00</td>\n",
       "      <td>2022-01-03 18:36:00</td>\n",
       "      <td>0.00</td>\n",
       "    </tr>\n",
       "    <tr>\n",
       "      <th>3</th>\n",
       "      <td>2022-01-04</td>\n",
       "      <td>43.8</td>\n",
       "      <td>2022-01-04 08:58:00</td>\n",
       "      <td>2022-01-04 18:37:00</td>\n",
       "      <td>0.00</td>\n",
       "    </tr>\n",
       "  </tbody>\n",
       "</table>\n",
       "</div>"
      ],
      "text/plain": [
       "        time  temperature_2m_max             sunrise              sunset  \\\n",
       "0 2022-01-01                65.2 2022-01-01 08:58:00 2022-01-01 18:34:00   \n",
       "1 2022-01-02                53.5 2022-01-02 08:58:00 2022-01-02 18:35:00   \n",
       "2 2022-01-03                33.8 2022-01-03 08:58:00 2022-01-03 18:36:00   \n",
       "3 2022-01-04                43.8 2022-01-04 08:58:00 2022-01-04 18:37:00   \n",
       "\n",
       "   precipitation_sum  \n",
       "0               2.17  \n",
       "1               0.06  \n",
       "2               0.00  \n",
       "3               0.00  "
      ]
     },
     "execution_count": 19,
     "metadata": {},
     "output_type": "execute_result"
    }
   ],
   "source": [
    "df.iloc[:4]"
   ]
  }
 ],
 "metadata": {
  "kernelspec": {
   "display_name": "Python 3.10.7 64-bit (microsoft store)",
   "language": "python",
   "name": "python3"
  },
  "language_info": {
   "codemirror_mode": {
    "name": "ipython",
    "version": 3
   },
   "file_extension": ".py",
   "mimetype": "text/x-python",
   "name": "python",
   "nbconvert_exporter": "python",
   "pygments_lexer": "ipython3",
   "version": "3.10.7"
  },
  "orig_nbformat": 4,
  "vscode": {
   "interpreter": {
    "hash": "179c32eef508bc41e99ea19cc5567dc356affb21ff96f3185044700356fa6477"
   }
  }
 },
 "nbformat": 4,
 "nbformat_minor": 2
}
